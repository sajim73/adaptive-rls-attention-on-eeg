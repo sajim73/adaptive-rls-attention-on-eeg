{
  "cells": [
    {
      "cell_type": "markdown",
      "metadata": {},
      "source": [
        "# Parameter Optimization (WIP)\n",
        "\n",
        "Replace with cells from RLS-ATTN-1p-Parameter-Optimization.ipynb."
      ]
    }
  ],
  "metadata": {
    "kernelspec": {
      "name": "python3",
      "language": "python",
      "display_name": "Python 3"
    }
  },
  "nbformat": 4,
  "nbformat_minor": 5
}

# Parameter Optimization Analysis for RLS Attention Models
import pandas as pd
import numpy as np
import matplotlib.pyplot as plt
import seaborn as sns
from src.training.hyperparameter_search import subject_dependent_experiment_with_search
from src.training.train_rls import cross_subject_experiment_rls
import torch

# Set up plotting
plt.style.use('seaborn')
sns.set_palette("husl")


# Run comprehensive hyperparameter search
DATA_DIR = "."
SUBSET_RATIO = 0.5  # Use 50% for thorough analysis

print("=== PARAMETER OPTIMIZATION EXPERIMENTS ===")

# Run hyperparameter search with detailed results
avg_acc, std_acc, detailed_results = subject_dependent_experiment_with_search(
    DATA_DIR, SUBSET_RATIO
)

# Load search results for analysis
search_results_df = pd.read_csv('hyperparameter_search_results.csv')
print(f"Loaded {len(search_results_df)} hyperparameter combinations")
